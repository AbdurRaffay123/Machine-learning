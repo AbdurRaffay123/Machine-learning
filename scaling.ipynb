{
 "cells": [
  {
   "cell_type": "code",
   "execution_count": 3,
   "metadata": {},
   "outputs": [],
   "source": [
    "import pandas as pd\n",
    "import seaborn as sns\n",
    "from sklearn.preprocessing import StandardScaler, MinMaxScaler, MaxAbsScaler, RobustScaler"
   ]
  },
  {
   "cell_type": "code",
   "execution_count": 4,
   "metadata": {},
   "outputs": [
    {
     "data": {
      "text/html": [
       "<div>\n",
       "<style scoped>\n",
       "    .dataframe tbody tr th:only-of-type {\n",
       "        vertical-align: middle;\n",
       "    }\n",
       "\n",
       "    .dataframe tbody tr th {\n",
       "        vertical-align: top;\n",
       "    }\n",
       "\n",
       "    .dataframe thead th {\n",
       "        text-align: right;\n",
       "    }\n",
       "</style>\n",
       "<table border=\"1\" class=\"dataframe\">\n",
       "  <thead>\n",
       "    <tr style=\"text-align: right;\">\n",
       "      <th></th>\n",
       "      <th>age</th>\n",
       "      <th>height</th>\n",
       "      <th>weight</th>\n",
       "    </tr>\n",
       "  </thead>\n",
       "  <tbody>\n",
       "    <tr>\n",
       "      <th>0</th>\n",
       "      <td>21</td>\n",
       "      <td>180</td>\n",
       "      <td>55</td>\n",
       "    </tr>\n",
       "    <tr>\n",
       "      <th>1</th>\n",
       "      <td>19</td>\n",
       "      <td>160</td>\n",
       "      <td>60</td>\n",
       "    </tr>\n",
       "    <tr>\n",
       "      <th>2</th>\n",
       "      <td>20</td>\n",
       "      <td>170</td>\n",
       "      <td>70</td>\n",
       "    </tr>\n",
       "    <tr>\n",
       "      <th>3</th>\n",
       "      <td>30</td>\n",
       "      <td>145</td>\n",
       "      <td>55</td>\n",
       "    </tr>\n",
       "    <tr>\n",
       "      <th>4</th>\n",
       "      <td>25</td>\n",
       "      <td>149</td>\n",
       "      <td>65</td>\n",
       "    </tr>\n",
       "  </tbody>\n",
       "</table>\n",
       "</div>"
      ],
      "text/plain": [
       "   age  height  weight\n",
       "0   21     180      55\n",
       "1   19     160      60\n",
       "2   20     170      70\n",
       "3   30     145      55\n",
       "4   25     149      65"
      ]
     },
     "execution_count": 4,
     "metadata": {},
     "output_type": "execute_result"
    }
   ],
   "source": [
    "df = {\n",
    "    'age': [21,19,20,30,25],\n",
    "    'height': [180,160,170,145,149],\n",
    "    'weight': [55,60,70,55,65]\n",
    "}\n",
    "\n",
    "dataframe = pd.DataFrame(df)\n",
    "dataframe"
   ]
  },
  {
   "cell_type": "markdown",
   "metadata": {},
   "source": [
    "# Standard Scaling ( -3, +3 )"
   ]
  },
  {
   "cell_type": "code",
   "execution_count": 92,
   "metadata": {},
   "outputs": [
    {
     "data": {
      "text/plain": [
       "array([[-0.4938648 ,  1.47884946, -1.02899151],\n",
       "       [-0.9877296 , -0.06161873, -0.17149859],\n",
       "       [-0.7407972 ,  0.70861537,  1.54348727],\n",
       "       [ 1.72852679, -1.21696987, -1.02899151],\n",
       "       [ 0.4938648 , -0.90887623,  0.68599434]])"
      ]
     },
     "execution_count": 92,
     "metadata": {},
     "output_type": "execute_result"
    }
   ],
   "source": [
    "scalar = StandardScaler()\n",
    "scaled_df = dataframe.copy()\n",
    "scaled_df = scalar.fit_transform(scaled_df)\n",
    "scaled_df"
   ]
  },
  {
   "cell_type": "markdown",
   "metadata": {},
   "source": [
    "# STANDARD SCALING IS ACTUALKY Z-SCORE WHICH I'VE APPLIED ON **AGE** COLUMN"
   ]
  },
  {
   "cell_type": "code",
   "execution_count": 5,
   "metadata": {},
   "outputs": [
    {
     "data": {
      "text/html": [
       "<div>\n",
       "<style scoped>\n",
       "    .dataframe tbody tr th:only-of-type {\n",
       "        vertical-align: middle;\n",
       "    }\n",
       "\n",
       "    .dataframe tbody tr th {\n",
       "        vertical-align: top;\n",
       "    }\n",
       "\n",
       "    .dataframe thead th {\n",
       "        text-align: right;\n",
       "    }\n",
       "</style>\n",
       "<table border=\"1\" class=\"dataframe\">\n",
       "  <thead>\n",
       "    <tr style=\"text-align: right;\">\n",
       "      <th></th>\n",
       "      <th>age</th>\n",
       "      <th>height</th>\n",
       "      <th>weight</th>\n",
       "      <th>Z-Score-AGE</th>\n",
       "      <th>Z-Score_height</th>\n",
       "      <th>Z-Score_weight</th>\n",
       "    </tr>\n",
       "  </thead>\n",
       "  <tbody>\n",
       "    <tr>\n",
       "      <th>0</th>\n",
       "      <td>21</td>\n",
       "      <td>180</td>\n",
       "      <td>55</td>\n",
       "      <td>-0.493865</td>\n",
       "      <td>1.478849</td>\n",
       "      <td>-1.028992</td>\n",
       "    </tr>\n",
       "    <tr>\n",
       "      <th>1</th>\n",
       "      <td>19</td>\n",
       "      <td>160</td>\n",
       "      <td>60</td>\n",
       "      <td>-0.987730</td>\n",
       "      <td>-0.061619</td>\n",
       "      <td>-0.171499</td>\n",
       "    </tr>\n",
       "    <tr>\n",
       "      <th>2</th>\n",
       "      <td>20</td>\n",
       "      <td>170</td>\n",
       "      <td>70</td>\n",
       "      <td>-0.740797</td>\n",
       "      <td>0.708615</td>\n",
       "      <td>1.543487</td>\n",
       "    </tr>\n",
       "    <tr>\n",
       "      <th>3</th>\n",
       "      <td>30</td>\n",
       "      <td>145</td>\n",
       "      <td>55</td>\n",
       "      <td>1.728527</td>\n",
       "      <td>-1.216970</td>\n",
       "      <td>-1.028992</td>\n",
       "    </tr>\n",
       "    <tr>\n",
       "      <th>4</th>\n",
       "      <td>25</td>\n",
       "      <td>149</td>\n",
       "      <td>65</td>\n",
       "      <td>0.493865</td>\n",
       "      <td>-0.908876</td>\n",
       "      <td>0.685994</td>\n",
       "    </tr>\n",
       "  </tbody>\n",
       "</table>\n",
       "</div>"
      ],
      "text/plain": [
       "   age  height  weight  Z-Score-AGE  Z-Score_height  Z-Score_weight\n",
       "0   21     180      55    -0.493865        1.478849       -1.028992\n",
       "1   19     160      60    -0.987730       -0.061619       -0.171499\n",
       "2   20     170      70    -0.740797        0.708615        1.543487\n",
       "3   30     145      55     1.728527       -1.216970       -1.028992\n",
       "4   25     149      65     0.493865       -0.908876        0.685994"
      ]
     },
     "execution_count": 5,
     "metadata": {},
     "output_type": "execute_result"
    }
   ],
   "source": [
    "import numpy as np\n",
    "\n",
    "temp_df = dataframe.copy()\n",
    "\n",
    "# Step 3: Calculate the mean and standard deviation (std)\n",
    "mean_age = np.mean(temp_df['age'])\n",
    "std_age = np.std(temp_df['age'])\n",
    "\n",
    "mean_weight = np.mean(temp_df['weight'])\n",
    "std_weight = np.std(temp_df['weight'])\n",
    "\n",
    "mean_height = np.mean(temp_df['height'])\n",
    "std_height = np.std(temp_df['height'])\n",
    "\n",
    "# Step 4: Calculate the Z-Score\n",
    "temp_df['Z-Score-AGE'] = (temp_df['age'] - mean_age) / std_age\n",
    "temp_df['Z-Score_height'] = (temp_df['height'] - mean_height) / std_height\n",
    "temp_df['Z-Score_weight'] = (temp_df['weight'] - mean_weight) / std_weight\n",
    "\n",
    "temp_df"
   ]
  },
  {
   "cell_type": "code",
   "execution_count": 94,
   "metadata": {},
   "outputs": [],
   "source": [
    "scaled_df = pd.DataFrame(scaled_df)"
   ]
  },
  {
   "cell_type": "code",
   "execution_count": 95,
   "metadata": {},
   "outputs": [
    {
     "data": {
      "image/png": "[encoded data removed]",
      "text/plain": [
       "<Figure size 1000x600 with 1 Axes>"
      ]
     },
     "metadata": {},
     "output_type": "display_data"
    }
   ],
   "source": [
    "import matplotlib.pyplot as plt\n",
    "\n",
    "# Plotting the data\n",
    "plt.figure(figsize=(10, 6))\n",
    "for column in scaled_df.columns:\n",
    "    plt.scatter(scaled_df[column], scaled_df.index, label=column)\n",
    "plt.title('Scaled Data Plot')\n",
    "plt.xlabel('Scaled Values')\n",
    "plt.ylabel('Index')\n",
    "plt.xlim(-3, 3)  # Set x-axis limits\n",
    "plt.legend()\n",
    "plt.grid(True)\n",
    "plt.show()"
   ]
  },
  {
   "cell_type": "code",
   "execution_count": 96,
   "metadata": {},
   "outputs": [
    {
     "data": {
      "image/png": "[encoded data removed]",
      "text/plain": [
       "<Figure size 1000x800 with 1 Axes>"
      ]
     },
     "metadata": {},
     "output_type": "display_data"
    }
   ],
   "source": [
    "# Plotting the data as a bar graph\n",
    "plt.figure(figsize=(10, 8))\n",
    "bar_width = 0.15\n",
    "index = scaled_df.index\n",
    "for i, column in enumerate(scaled_df.columns):\n",
    "    plt.barh( index + i * bar_width, scaled_df[column], bar_width, label=column)\n",
    "\n",
    "plt.title('Scaled Data Bar Graph')\n",
    "plt.xlabel('Scaled Values')\n",
    "plt.ylabel('Index')\n",
    "plt.xlim(-3, 3)  # Set x-axis limits\n",
    "plt.yticks(index + bar_width, index)\n",
    "plt.legend()\n",
    "plt.grid(True, axis='x')\n",
    "plt.show()"
   ]
  },
  {
   "cell_type": "markdown",
   "metadata": {},
   "source": [
    "# Min-Max Scalar range( 0 , 1 )\n",
    "\n",
    "The formula is:\n",
    "\n",
    "𝑋 (scaled) = 𝑋 − 𝑋(min) / 𝑋(max) − 𝑋(min)\n",
    "\n",
    "**Where**:\n",
    "\n",
    "𝑋 : X is the original value.\n",
    "\n",
    "𝑋(min) : is the minimum value of the feature.\n",
    "\n",
    "𝑋(max) : is the maximum value of the feature."
   ]
  },
  {
   "cell_type": "code",
   "execution_count": 7,
   "metadata": {},
   "outputs": [
    {
     "data": {
      "text/html": [
       "<div>\n",
       "<style scoped>\n",
       "    .dataframe tbody tr th:only-of-type {\n",
       "        vertical-align: middle;\n",
       "    }\n",
       "\n",
       "    .dataframe tbody tr th {\n",
       "        vertical-align: top;\n",
       "    }\n",
       "\n",
       "    .dataframe thead th {\n",
       "        text-align: right;\n",
       "    }\n",
       "</style>\n",
       "<table border=\"1\" class=\"dataframe\">\n",
       "  <thead>\n",
       "    <tr style=\"text-align: right;\">\n",
       "      <th></th>\n",
       "      <th>age</th>\n",
       "      <th>height</th>\n",
       "      <th>weight</th>\n",
       "    </tr>\n",
       "  </thead>\n",
       "  <tbody>\n",
       "    <tr>\n",
       "      <th>0</th>\n",
       "      <td>0.181818</td>\n",
       "      <td>1.000000</td>\n",
       "      <td>0.000000</td>\n",
       "    </tr>\n",
       "    <tr>\n",
       "      <th>1</th>\n",
       "      <td>0.000000</td>\n",
       "      <td>0.428571</td>\n",
       "      <td>0.333333</td>\n",
       "    </tr>\n",
       "    <tr>\n",
       "      <th>2</th>\n",
       "      <td>0.090909</td>\n",
       "      <td>0.714286</td>\n",
       "      <td>1.000000</td>\n",
       "    </tr>\n",
       "    <tr>\n",
       "      <th>3</th>\n",
       "      <td>1.000000</td>\n",
       "      <td>0.000000</td>\n",
       "      <td>0.000000</td>\n",
       "    </tr>\n",
       "    <tr>\n",
       "      <th>4</th>\n",
       "      <td>0.545455</td>\n",
       "      <td>0.114286</td>\n",
       "      <td>0.666667</td>\n",
       "    </tr>\n",
       "  </tbody>\n",
       "</table>\n",
       "</div>"
      ],
      "text/plain": [
       "        age    height    weight\n",
       "0  0.181818  1.000000  0.000000\n",
       "1  0.000000  0.428571  0.333333\n",
       "2  0.090909  0.714286  1.000000\n",
       "3  1.000000  0.000000  0.000000\n",
       "4  0.545455  0.114286  0.666667"
      ]
     },
     "execution_count": 7,
     "metadata": {},
     "output_type": "execute_result"
    }
   ],
   "source": [
    "scalar = MinMaxScaler()\n",
    "scaled_data = scalar.fit_transform(dataframe)\n",
    "# convert into Scaled_data into dataframe\n",
    "scaled_data = pd.DataFrame(scaled_data, columns=dataframe.columns)\n",
    "scaled_data"
   ]
  },
  {
   "cell_type": "markdown",
   "metadata": {},
   "source": [
    "# Max-Absolute Scalar ( -1, +1 )\n",
    "\n",
    "X(scaled) = X / | X(max) |\n",
    "​\n",
    "\n",
    "Where: \n",
    "\n",
    "X is the original value.\n",
    "\n",
    "∣ X(max) ∣ is the maximum absolute value (+ve) of the feature.\n"
   ]
  },
  {
   "cell_type": "code",
   "execution_count": 101,
   "metadata": {},
   "outputs": [
    {
     "data": {
      "text/html": [
       "<div>\n",
       "<style scoped>\n",
       "    .dataframe tbody tr th:only-of-type {\n",
       "        vertical-align: middle;\n",
       "    }\n",
       "\n",
       "    .dataframe tbody tr th {\n",
       "        vertical-align: top;\n",
       "    }\n",
       "\n",
       "    .dataframe thead th {\n",
       "        text-align: right;\n",
       "    }\n",
       "</style>\n",
       "<table border=\"1\" class=\"dataframe\">\n",
       "  <thead>\n",
       "    <tr style=\"text-align: right;\">\n",
       "      <th></th>\n",
       "      <th>age</th>\n",
       "      <th>height</th>\n",
       "      <th>weight</th>\n",
       "    </tr>\n",
       "  </thead>\n",
       "  <tbody>\n",
       "    <tr>\n",
       "      <th>0</th>\n",
       "      <td>0.700000</td>\n",
       "      <td>1.000000</td>\n",
       "      <td>0.785714</td>\n",
       "    </tr>\n",
       "    <tr>\n",
       "      <th>1</th>\n",
       "      <td>0.633333</td>\n",
       "      <td>0.888889</td>\n",
       "      <td>0.857143</td>\n",
       "    </tr>\n",
       "    <tr>\n",
       "      <th>2</th>\n",
       "      <td>0.666667</td>\n",
       "      <td>0.944444</td>\n",
       "      <td>1.000000</td>\n",
       "    </tr>\n",
       "    <tr>\n",
       "      <th>3</th>\n",
       "      <td>1.000000</td>\n",
       "      <td>0.805556</td>\n",
       "      <td>0.785714</td>\n",
       "    </tr>\n",
       "    <tr>\n",
       "      <th>4</th>\n",
       "      <td>0.833333</td>\n",
       "      <td>0.827778</td>\n",
       "      <td>0.928571</td>\n",
       "    </tr>\n",
       "  </tbody>\n",
       "</table>\n",
       "</div>"
      ],
      "text/plain": [
       "        age    height    weight\n",
       "0  0.700000  1.000000  0.785714\n",
       "1  0.633333  0.888889  0.857143\n",
       "2  0.666667  0.944444  1.000000\n",
       "3  1.000000  0.805556  0.785714\n",
       "4  0.833333  0.827778  0.928571"
      ]
     },
     "execution_count": 101,
     "metadata": {},
     "output_type": "execute_result"
    }
   ],
   "source": [
    "scalar = MaxAbsScaler()\n",
    "scaled_data = scalar.fit_transform(dataframe)\n",
    "\n",
    "# convert into Scaled_data into dataframe\n",
    "scaled_df = pd.DataFrame(scaled_data, columns=dataframe.columns)\n",
    "scaled_df"
   ]
  },
  {
   "cell_type": "markdown",
   "metadata": {},
   "source": [
    "# RobustScaler"
   ]
  },
  {
   "cell_type": "code",
   "execution_count": 102,
   "metadata": {},
   "outputs": [
    {
     "data": {
      "text/html": [
       "<div>\n",
       "<style scoped>\n",
       "    .dataframe tbody tr th:only-of-type {\n",
       "        vertical-align: middle;\n",
       "    }\n",
       "\n",
       "    .dataframe tbody tr th {\n",
       "        vertical-align: top;\n",
       "    }\n",
       "\n",
       "    .dataframe thead th {\n",
       "        text-align: right;\n",
       "    }\n",
       "</style>\n",
       "<table border=\"1\" class=\"dataframe\">\n",
       "  <thead>\n",
       "    <tr style=\"text-align: right;\">\n",
       "      <th></th>\n",
       "      <th>age</th>\n",
       "      <th>height</th>\n",
       "      <th>weight</th>\n",
       "    </tr>\n",
       "  </thead>\n",
       "  <tbody>\n",
       "    <tr>\n",
       "      <th>0</th>\n",
       "      <td>0.0</td>\n",
       "      <td>0.952381</td>\n",
       "      <td>-0.5</td>\n",
       "    </tr>\n",
       "    <tr>\n",
       "      <th>1</th>\n",
       "      <td>-0.4</td>\n",
       "      <td>0.000000</td>\n",
       "      <td>0.0</td>\n",
       "    </tr>\n",
       "    <tr>\n",
       "      <th>2</th>\n",
       "      <td>-0.2</td>\n",
       "      <td>0.476190</td>\n",
       "      <td>1.0</td>\n",
       "    </tr>\n",
       "    <tr>\n",
       "      <th>3</th>\n",
       "      <td>1.8</td>\n",
       "      <td>-0.714286</td>\n",
       "      <td>-0.5</td>\n",
       "    </tr>\n",
       "    <tr>\n",
       "      <th>4</th>\n",
       "      <td>0.8</td>\n",
       "      <td>-0.523810</td>\n",
       "      <td>0.5</td>\n",
       "    </tr>\n",
       "  </tbody>\n",
       "</table>\n",
       "</div>"
      ],
      "text/plain": [
       "   age    height  weight\n",
       "0  0.0  0.952381    -0.5\n",
       "1 -0.4  0.000000     0.0\n",
       "2 -0.2  0.476190     1.0\n",
       "3  1.8 -0.714286    -0.5\n",
       "4  0.8 -0.523810     0.5"
      ]
     },
     "execution_count": 102,
     "metadata": {},
     "output_type": "execute_result"
    }
   ],
   "source": [
    "scalar = RobustScaler()\n",
    "scaled_data = scalar.fit_transform(dataframe)\n",
    "# convert into Scaled_data into dataframe\n",
    "scaled_df = pd.DataFrame(scaled_data, columns=dataframe.columns)\n",
    "scaled_df"
   ]
  },
  {
   "cell_type": "markdown",
   "metadata": {},
   "source": [
    "# TRANSFORMATION"
   ]
  },
  {
   "cell_type": "code",
   "execution_count": 3,
   "metadata": {},
   "outputs": [],
   "source": [
    "import pandas as pd\n",
    "import numpy as np\n",
    "import matplotlib.pyplot as plt\n",
    "import seaborn as sns "
   ]
  },
  {
   "cell_type": "code",
   "execution_count": 5,
   "metadata": {},
   "outputs": [
    {
     "data": {
      "text/html": [
       "<div>\n",
       "<style scoped>\n",
       "    .dataframe tbody tr th:only-of-type {\n",
       "        vertical-align: middle;\n",
       "    }\n",
       "\n",
       "    .dataframe tbody tr th {\n",
       "        vertical-align: top;\n",
       "    }\n",
       "\n",
       "    .dataframe thead th {\n",
       "        text-align: right;\n",
       "    }\n",
       "</style>\n",
       "<table border=\"1\" class=\"dataframe\">\n",
       "  <thead>\n",
       "    <tr style=\"text-align: right;\">\n",
       "      <th></th>\n",
       "      <th>values</th>\n",
       "    </tr>\n",
       "  </thead>\n",
       "  <tbody>\n",
       "    <tr>\n",
       "      <th>0</th>\n",
       "      <td>1.591749</td>\n",
       "    </tr>\n",
       "    <tr>\n",
       "      <th>1</th>\n",
       "      <td>2.511862</td>\n",
       "    </tr>\n",
       "    <tr>\n",
       "      <th>2</th>\n",
       "      <td>1.846446</td>\n",
       "    </tr>\n",
       "    <tr>\n",
       "      <th>3</th>\n",
       "      <td>1.574402</td>\n",
       "    </tr>\n",
       "    <tr>\n",
       "      <th>4</th>\n",
       "      <td>1.102097</td>\n",
       "    </tr>\n",
       "    <tr>\n",
       "      <th>5</th>\n",
       "      <td>2.076319</td>\n",
       "    </tr>\n",
       "    <tr>\n",
       "      <th>6</th>\n",
       "      <td>1.151038</td>\n",
       "    </tr>\n",
       "    <tr>\n",
       "      <th>7</th>\n",
       "      <td>4.447049</td>\n",
       "    </tr>\n",
       "    <tr>\n",
       "      <th>8</th>\n",
       "      <td>6.629824</td>\n",
       "    </tr>\n",
       "    <tr>\n",
       "      <th>9</th>\n",
       "      <td>0.967204</td>\n",
       "    </tr>\n",
       "  </tbody>\n",
       "</table>\n",
       "</div>"
      ],
      "text/plain": [
       "     values\n",
       "0  1.591749\n",
       "1  2.511862\n",
       "2  1.846446\n",
       "3  1.574402\n",
       "4  1.102097\n",
       "5  2.076319\n",
       "6  1.151038\n",
       "7  4.447049\n",
       "8  6.629824\n",
       "9  0.967204"
      ]
     },
     "execution_count": 5,
     "metadata": {},
     "output_type": "execute_result"
    }
   ],
   "source": [
    "np.random.seed(0)\n",
    "df = np.random.exponential(size = 1000, scale = 2)\n",
    "df = pd.DataFrame(df, columns = ['values'])\n",
    "df.head(10)"
   ]
  },
  {
   "cell_type": "code",
   "execution_count": 7,
   "metadata": {},
   "outputs": [
    {
     "data": {
      "text/plain": [
       "<Axes: xlabel='values', ylabel='Count'>"
      ]
     },
     "execution_count": 7,
     "metadata": {},
     "output_type": "execute_result"
    },
    {
     "data": {
      "image/png": "[encoded data removed]",
      "text/plain": [
       "<Figure size 640x480 with 1 Axes>"
      ]
     },
     "metadata": {},
     "output_type": "display_data"
    }
   ],
   "source": [
    "sns.histplot(df['values'], kde=True)"
   ]
  },
  {
   "cell_type": "code",
   "execution_count": 15,
   "metadata": {},
   "outputs": [
    {
     "data": {
      "text/html": [
       "<div>\n",
       "<style scoped>\n",
       "    .dataframe tbody tr th:only-of-type {\n",
       "        vertical-align: middle;\n",
       "    }\n",
       "\n",
       "    .dataframe tbody tr th {\n",
       "        vertical-align: top;\n",
       "    }\n",
       "\n",
       "    .dataframe thead th {\n",
       "        text-align: right;\n",
       "    }\n",
       "</style>\n",
       "<table border=\"1\" class=\"dataframe\">\n",
       "  <thead>\n",
       "    <tr style=\"text-align: right;\">\n",
       "      <th></th>\n",
       "      <th>values</th>\n",
       "      <th>Box_Cox</th>\n",
       "      <th>Yeo_Johnson</th>\n",
       "      <th>Quantile</th>\n",
       "    </tr>\n",
       "  </thead>\n",
       "  <tbody>\n",
       "    <tr>\n",
       "      <th>0</th>\n",
       "      <td>1.591749</td>\n",
       "      <td>0.179335</td>\n",
       "      <td>0.179335</td>\n",
       "      <td>0.162552</td>\n",
       "    </tr>\n",
       "    <tr>\n",
       "      <th>1</th>\n",
       "      <td>2.511862</td>\n",
       "      <td>0.677331</td>\n",
       "      <td>0.677331</td>\n",
       "      <td>0.587964</td>\n",
       "    </tr>\n",
       "    <tr>\n",
       "      <th>2</th>\n",
       "      <td>1.846446</td>\n",
       "      <td>0.339698</td>\n",
       "      <td>0.339698</td>\n",
       "      <td>0.286135</td>\n",
       "    </tr>\n",
       "    <tr>\n",
       "      <th>3</th>\n",
       "      <td>1.574402</td>\n",
       "      <td>0.167607</td>\n",
       "      <td>0.167607</td>\n",
       "      <td>0.157469</td>\n",
       "    </tr>\n",
       "    <tr>\n",
       "      <th>4</th>\n",
       "      <td>1.102097</td>\n",
       "      <td>-0.202107</td>\n",
       "      <td>-0.202107</td>\n",
       "      <td>-0.154930</td>\n",
       "    </tr>\n",
       "    <tr>\n",
       "      <th>...</th>\n",
       "      <td>...</td>\n",
       "      <td>...</td>\n",
       "      <td>...</td>\n",
       "      <td>...</td>\n",
       "    </tr>\n",
       "    <tr>\n",
       "      <th>995</th>\n",
       "      <td>0.205564</td>\n",
       "      <td>-1.390405</td>\n",
       "      <td>-1.390405</td>\n",
       "      <td>-1.315958</td>\n",
       "    </tr>\n",
       "    <tr>\n",
       "      <th>996</th>\n",
       "      <td>1.446892</td>\n",
       "      <td>0.077828</td>\n",
       "      <td>0.077828</td>\n",
       "      <td>0.074087</td>\n",
       "    </tr>\n",
       "    <tr>\n",
       "      <th>997</th>\n",
       "      <td>5.574577</td>\n",
       "      <td>1.527375</td>\n",
       "      <td>1.527375</td>\n",
       "      <td>1.475269</td>\n",
       "    </tr>\n",
       "    <tr>\n",
       "      <th>998</th>\n",
       "      <td>0.519217</td>\n",
       "      <td>-0.862872</td>\n",
       "      <td>-0.862872</td>\n",
       "      <td>-0.748009</td>\n",
       "    </tr>\n",
       "    <tr>\n",
       "      <th>999</th>\n",
       "      <td>2.261080</td>\n",
       "      <td>0.561583</td>\n",
       "      <td>0.561583</td>\n",
       "      <td>0.466803</td>\n",
       "    </tr>\n",
       "  </tbody>\n",
       "</table>\n",
       "<p>1000 rows × 4 columns</p>\n",
       "</div>"
      ],
      "text/plain": [
       "       values   Box_Cox  Yeo_Johnson  Quantile\n",
       "0    1.591749  0.179335     0.179335  0.162552\n",
       "1    2.511862  0.677331     0.677331  0.587964\n",
       "2    1.846446  0.339698     0.339698  0.286135\n",
       "3    1.574402  0.167607     0.167607  0.157469\n",
       "4    1.102097 -0.202107    -0.202107 -0.154930\n",
       "..        ...       ...          ...       ...\n",
       "995  0.205564 -1.390405    -1.390405 -1.315958\n",
       "996  1.446892  0.077828     0.077828  0.074087\n",
       "997  5.574577  1.527375     1.527375  1.475269\n",
       "998  0.519217 -0.862872    -0.862872 -0.748009\n",
       "999  2.261080  0.561583     0.561583  0.466803\n",
       "\n",
       "[1000 rows x 4 columns]"
      ]
     },
     "execution_count": 15,
     "metadata": {},
     "output_type": "execute_result"
    }
   ],
   "source": [
    "from sklearn.preprocessing import PowerTransformer\n",
    "from sklearn.preprocessing import QuantileTransformer\n",
    "\n",
    "pt_boxcox = PowerTransformer(method=\"box-cox\")\n",
    "pt_yeo_johnson = PowerTransformer(method=\"yeo-johnson\")\n",
    "qt_normal = QuantileTransformer(output_distribution='normal')\n",
    "\n",
    "# Box cox k lie values positive honi chaiye\n",
    "\n",
    "df['Box_Cox'] = pt_boxcox.fit_transform(df[['values']] + 1)\n",
    "df['Yeo_Johnson'] = pt_yeo_johnson.fit_transform(df[['values']])\n",
    "df['Quantile'] = qt_normal.fit_transform(df[['values']])\n",
    "\n",
    "df"
   ]
  },
  {
   "cell_type": "code",
   "execution_count": 16,
   "metadata": {},
   "outputs": [
    {
     "data": {
      "image/png": "[encoded data removed]",
      "text/plain": [
       "<Figure size 640x480 with 1 Axes>"
      ]
     },
     "metadata": {},
     "output_type": "display_data"
    },
    {
     "data": {
      "image/png": "[encoded data removed]",
      "text/plain": [
       "<Figure size 640x480 with 1 Axes>"
      ]
     },
     "metadata": {},
     "output_type": "display_data"
    },
    {
     "data": {
      "image/png": "[encoded data removed]",
      "text/plain": [
       "<Figure size 640x480 with 1 Axes>"
      ]
     },
     "metadata": {},
     "output_type": "display_data"
    },
    {
     "data": {
      "image/png": "[encoded data removed]",
      "text/plain": [
       "<Figure size 640x480 with 1 Axes>"
      ]
     },
     "metadata": {},
     "output_type": "display_data"
    }
   ],
   "source": [
    "for col in df.columns:\n",
    "    sns.histplot(df[col], kde=True)\n",
    "    plt.show()"
   ]
  },
  {
   "cell_type": "markdown",
   "metadata": {},
   "source": [
    "# NORMALIZATON\n",
    "\n",
    "L2 NORMALIZTION = square of the sum of all the values in each row / total no. of values in that row."
   ]
  },
  {
   "cell_type": "code",
   "execution_count": 21,
   "metadata": {},
   "outputs": [
    {
     "name": "stdout",
     "output_type": "stream",
     "text": [
      "[[0.57735027 0.57735027 0.57735027]\n",
      " [0.70710678 0.70710678 0.        ]\n",
      " [1.         0.         0.        ]]\n"
     ]
    }
   ],
   "source": [
    "from sklearn.preprocessing import Normalizer\n",
    "   \n",
    "data = [[1,1,1],[1,1,0],[1,0,0]]    \n",
    "\n",
    "normalizer = Normalizer(norm=\"l2\")\n",
    "print(normalizer.fit_transform(data))    "
   ]
  },
  {
   "cell_type": "markdown",
   "metadata": {},
   "source": [
    "# L1 NORMALIZER \" sum of all the values in each row equals to 1 \""
   ]
  },
  {
   "cell_type": "code",
   "execution_count": 22,
   "metadata": {},
   "outputs": [
    {
     "name": "stdout",
     "output_type": "stream",
     "text": [
      "[[0.33333333 0.33333333 0.33333333]\n",
      " [0.5        0.5        0.        ]\n",
      " [1.         0.         0.        ]]\n"
     ]
    }
   ],
   "source": [
    "data = [[1,1,1],[1,1,0],[1,0,0]]    \n",
    "\n",
    "normalizer = Normalizer(norm=\"l1\")\n",
    "print(normalizer.fit_transform(data))"
   ]
  },
  {
   "cell_type": "markdown",
   "metadata": {},
   "source": [
    "# LOG TRANSFORM"
   ]
  },
  {
   "cell_type": "code",
   "execution_count": 31,
   "metadata": {},
   "outputs": [
    {
     "data": {
      "text/html": [
       "<div>\n",
       "<style scoped>\n",
       "    .dataframe tbody tr th:only-of-type {\n",
       "        vertical-align: middle;\n",
       "    }\n",
       "\n",
       "    .dataframe tbody tr th {\n",
       "        vertical-align: top;\n",
       "    }\n",
       "\n",
       "    .dataframe thead th {\n",
       "        text-align: right;\n",
       "    }\n",
       "</style>\n",
       "<table border=\"1\" class=\"dataframe\">\n",
       "  <thead>\n",
       "    <tr style=\"text-align: right;\">\n",
       "      <th></th>\n",
       "      <th>values</th>\n",
       "      <th>log_values</th>\n",
       "    </tr>\n",
       "  </thead>\n",
       "  <tbody>\n",
       "    <tr>\n",
       "      <th>0</th>\n",
       "      <td>1</td>\n",
       "      <td>0.000000</td>\n",
       "    </tr>\n",
       "    <tr>\n",
       "      <th>1</th>\n",
       "      <td>5</td>\n",
       "      <td>1.609438</td>\n",
       "    </tr>\n",
       "    <tr>\n",
       "      <th>2</th>\n",
       "      <td>10</td>\n",
       "      <td>2.302585</td>\n",
       "    </tr>\n",
       "    <tr>\n",
       "      <th>3</th>\n",
       "      <td>15</td>\n",
       "      <td>2.708050</td>\n",
       "    </tr>\n",
       "    <tr>\n",
       "      <th>4</th>\n",
       "      <td>30</td>\n",
       "      <td>3.401197</td>\n",
       "    </tr>\n",
       "    <tr>\n",
       "      <th>5</th>\n",
       "      <td>50</td>\n",
       "      <td>3.912023</td>\n",
       "    </tr>\n",
       "    <tr>\n",
       "      <th>6</th>\n",
       "      <td>100</td>\n",
       "      <td>4.605170</td>\n",
       "    </tr>\n",
       "    <tr>\n",
       "      <th>7</th>\n",
       "      <td>160</td>\n",
       "      <td>5.075174</td>\n",
       "    </tr>\n",
       "    <tr>\n",
       "      <th>8</th>\n",
       "      <td>210</td>\n",
       "      <td>5.347108</td>\n",
       "    </tr>\n",
       "    <tr>\n",
       "      <th>9</th>\n",
       "      <td>400</td>\n",
       "      <td>5.991465</td>\n",
       "    </tr>\n",
       "    <tr>\n",
       "      <th>10</th>\n",
       "      <td>600</td>\n",
       "      <td>6.396930</td>\n",
       "    </tr>\n",
       "    <tr>\n",
       "      <th>11</th>\n",
       "      <td>1000</td>\n",
       "      <td>6.907755</td>\n",
       "    </tr>\n",
       "    <tr>\n",
       "      <th>12</th>\n",
       "      <td>40000</td>\n",
       "      <td>10.596635</td>\n",
       "    </tr>\n",
       "    <tr>\n",
       "      <th>13</th>\n",
       "      <td>90000</td>\n",
       "      <td>11.407565</td>\n",
       "    </tr>\n",
       "    <tr>\n",
       "      <th>14</th>\n",
       "      <td>1200000</td>\n",
       "      <td>13.997832</td>\n",
       "    </tr>\n",
       "  </tbody>\n",
       "</table>\n",
       "</div>"
      ],
      "text/plain": [
       "     values  log_values\n",
       "0         1    0.000000\n",
       "1         5    1.609438\n",
       "2        10    2.302585\n",
       "3        15    2.708050\n",
       "4        30    3.401197\n",
       "5        50    3.912023\n",
       "6       100    4.605170\n",
       "7       160    5.075174\n",
       "8       210    5.347108\n",
       "9       400    5.991465\n",
       "10      600    6.396930\n",
       "11     1000    6.907755\n",
       "12    40000   10.596635\n",
       "13    90000   11.407565\n",
       "14  1200000   13.997832"
      ]
     },
     "execution_count": 31,
     "metadata": {},
     "output_type": "execute_result"
    }
   ],
   "source": [
    "import numpy as np\n",
    "\n",
    "data = {\n",
    "      \"values\" :[1,5,10,15,30,50,100,160,210,400,600,1000,40000,90000,1200000]\n",
    "        }\n",
    "df = pd.DataFrame(data)\n",
    "\n",
    "df['log_values'] = np.log(data[\"values\"])\n",
    "df"
   ]
  },
  {
   "cell_type": "markdown",
   "metadata": {},
   "source": [
    "# **LOG TRANSFORMER** USING SKLEARN FUNCTIONAL_TRANSFORMER"
   ]
  },
  {
   "cell_type": "code",
   "execution_count": 32,
   "metadata": {},
   "outputs": [
    {
     "data": {
      "text/html": [
       "<div>\n",
       "<style scoped>\n",
       "    .dataframe tbody tr th:only-of-type {\n",
       "        vertical-align: middle;\n",
       "    }\n",
       "\n",
       "    .dataframe tbody tr th {\n",
       "        vertical-align: top;\n",
       "    }\n",
       "\n",
       "    .dataframe thead th {\n",
       "        text-align: right;\n",
       "    }\n",
       "</style>\n",
       "<table border=\"1\" class=\"dataframe\">\n",
       "  <thead>\n",
       "    <tr style=\"text-align: right;\">\n",
       "      <th></th>\n",
       "      <th>values</th>\n",
       "      <th>log_values</th>\n",
       "    </tr>\n",
       "  </thead>\n",
       "  <tbody>\n",
       "    <tr>\n",
       "      <th>0</th>\n",
       "      <td>1</td>\n",
       "      <td>0.693147</td>\n",
       "    </tr>\n",
       "    <tr>\n",
       "      <th>1</th>\n",
       "      <td>5</td>\n",
       "      <td>1.791759</td>\n",
       "    </tr>\n",
       "    <tr>\n",
       "      <th>2</th>\n",
       "      <td>10</td>\n",
       "      <td>2.397895</td>\n",
       "    </tr>\n",
       "    <tr>\n",
       "      <th>3</th>\n",
       "      <td>15</td>\n",
       "      <td>2.772589</td>\n",
       "    </tr>\n",
       "    <tr>\n",
       "      <th>4</th>\n",
       "      <td>30</td>\n",
       "      <td>3.433987</td>\n",
       "    </tr>\n",
       "    <tr>\n",
       "      <th>5</th>\n",
       "      <td>50</td>\n",
       "      <td>3.931826</td>\n",
       "    </tr>\n",
       "    <tr>\n",
       "      <th>6</th>\n",
       "      <td>100</td>\n",
       "      <td>4.615121</td>\n",
       "    </tr>\n",
       "    <tr>\n",
       "      <th>7</th>\n",
       "      <td>160</td>\n",
       "      <td>5.081404</td>\n",
       "    </tr>\n",
       "    <tr>\n",
       "      <th>8</th>\n",
       "      <td>210</td>\n",
       "      <td>5.351858</td>\n",
       "    </tr>\n",
       "    <tr>\n",
       "      <th>9</th>\n",
       "      <td>400</td>\n",
       "      <td>5.993961</td>\n",
       "    </tr>\n",
       "    <tr>\n",
       "      <th>10</th>\n",
       "      <td>600</td>\n",
       "      <td>6.398595</td>\n",
       "    </tr>\n",
       "    <tr>\n",
       "      <th>11</th>\n",
       "      <td>1000</td>\n",
       "      <td>6.908755</td>\n",
       "    </tr>\n",
       "    <tr>\n",
       "      <th>12</th>\n",
       "      <td>40000</td>\n",
       "      <td>10.596660</td>\n",
       "    </tr>\n",
       "    <tr>\n",
       "      <th>13</th>\n",
       "      <td>90000</td>\n",
       "      <td>11.407576</td>\n",
       "    </tr>\n",
       "    <tr>\n",
       "      <th>14</th>\n",
       "      <td>1200000</td>\n",
       "      <td>13.997833</td>\n",
       "    </tr>\n",
       "  </tbody>\n",
       "</table>\n",
       "</div>"
      ],
      "text/plain": [
       "     values  log_values\n",
       "0         1    0.693147\n",
       "1         5    1.791759\n",
       "2        10    2.397895\n",
       "3        15    2.772589\n",
       "4        30    3.433987\n",
       "5        50    3.931826\n",
       "6       100    4.615121\n",
       "7       160    5.081404\n",
       "8       210    5.351858\n",
       "9       400    5.993961\n",
       "10      600    6.398595\n",
       "11     1000    6.908755\n",
       "12    40000   10.596660\n",
       "13    90000   11.407576\n",
       "14  1200000   13.997833"
      ]
     },
     "execution_count": 32,
     "metadata": {},
     "output_type": "execute_result"
    }
   ],
   "source": [
    "import numpy as np\n",
    "import pandas as pd\n",
    "from sklearn.preprocessing import FunctionTransformer\n",
    "\n",
    "# Original data\n",
    "data = {\n",
    "    \"values\": [1, 5, 10, 15, 30, 50, 100, 160, 210, 400, 600, 1000, 40000, 90000, 1200000]\n",
    "}\n",
    "\n",
    "# Create a DataFrame\n",
    "df = pd.DataFrame(data)\n",
    "\n",
    "# Applying log transformation using np.log1p (log1p is log(1 + x))\n",
    "log_transformer = FunctionTransformer(np.log1p, validate=True)\n",
    "\n",
    "# Transforming the 'values' column and storing the result in 'log_values'\n",
    "log_data = log_transformer.fit_transform(df[['values']])  # Reshaping done internally by pandas\n",
    "\n",
    "# Adding the transformed data as a new column in the DataFrame\n",
    "df['log_values'] = log_data\n",
    "\n",
    "df"
   ]
  }
 ],
 "metadata": {
  "kernelspec": {
   "display_name": "Python 3",
   "language": "python",
   "name": "python3"
  },
  "language_info": {
   "codemirror_mode": {
    "name": "ipython",
    "version": 3
   },
   "file_extension": ".py",
   "mimetype": "text/x-python",
   "name": "python",
   "nbconvert_exporter": "python",
   "pygments_lexer": "ipython3",
   "version": "3.12.4"
  }
 },
 "nbformat": 4,
 "nbformat_minor": 2
}

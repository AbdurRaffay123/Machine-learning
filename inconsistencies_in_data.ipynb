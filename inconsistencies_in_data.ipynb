{
 "cells": [
  {
   "cell_type": "code",
   "execution_count": 1,
   "metadata": {},
   "outputs": [],
   "source": [
    "import pandas as pd"
   ]
  },
  {
   "cell_type": "code",
   "execution_count": 25,
   "metadata": {},
   "outputs": [
    {
     "data": {
      "text/html": [
       "<div>\n",
       "<style scoped>\n",
       "    .dataframe tbody tr th:only-of-type {\n",
       "        vertical-align: middle;\n",
       "    }\n",
       "\n",
       "    .dataframe tbody tr th {\n",
       "        vertical-align: top;\n",
       "    }\n",
       "\n",
       "    .dataframe thead th {\n",
       "        text-align: right;\n",
       "    }\n",
       "</style>\n",
       "<table border=\"1\" class=\"dataframe\">\n",
       "  <thead>\n",
       "    <tr style=\"text-align: right;\">\n",
       "      <th></th>\n",
       "      <th>date</th>\n",
       "      <th>country</th>\n",
       "      <th>name</th>\n",
       "      <th>sales_2020</th>\n",
       "      <th>sales_2021</th>\n",
       "    </tr>\n",
       "  </thead>\n",
       "  <tbody>\n",
       "    <tr>\n",
       "      <th>0</th>\n",
       "      <td>2020-01-01</td>\n",
       "      <td>USA</td>\n",
       "      <td>Abdus</td>\n",
       "      <td>250.0</td>\n",
       "      <td>NaN</td>\n",
       "    </tr>\n",
       "    <tr>\n",
       "      <th>1</th>\n",
       "      <td>2021-02-15</td>\n",
       "      <td>U.S.A</td>\n",
       "      <td>Hasn</td>\n",
       "      <td>300.0</td>\n",
       "      <td>310.0</td>\n",
       "    </tr>\n",
       "    <tr>\n",
       "      <th>2</th>\n",
       "      <td>22-01-2023</td>\n",
       "      <td>United States of America</td>\n",
       "      <td>Hasn</td>\n",
       "      <td>NaN</td>\n",
       "      <td>260.0</td>\n",
       "    </tr>\n",
       "    <tr>\n",
       "      <th>3</th>\n",
       "      <td>2021/03/10</td>\n",
       "      <td>United States</td>\n",
       "      <td>Udmaan</td>\n",
       "      <td>400.0</td>\n",
       "      <td>NaN</td>\n",
       "    </tr>\n",
       "    <tr>\n",
       "      <th>4</th>\n",
       "      <td>20th April 2021</td>\n",
       "      <td>U-S-A</td>\n",
       "      <td>Aiehsya</td>\n",
       "      <td>150.0</td>\n",
       "      <td>900.0</td>\n",
       "    </tr>\n",
       "  </tbody>\n",
       "</table>\n",
       "</div>"
      ],
      "text/plain": [
       "              date                   country     name  sales_2020  sales_2021\n",
       "0       2020-01-01                       USA    Abdus       250.0         NaN\n",
       "1       2021-02-15                     U.S.A     Hasn       300.0       310.0\n",
       "2       22-01-2023  United States of America     Hasn         NaN       260.0\n",
       "3       2021/03/10             United States   Udmaan       400.0         NaN\n",
       "4  20th April 2021                     U-S-A  Aiehsya       150.0       900.0"
      ]
     },
     "execution_count": 25,
     "metadata": {},
     "output_type": "execute_result"
    }
   ],
   "source": [
    "data = {\n",
    "    \"date\": [\"2020-01-01\", \"2021-02-15\", \"22-01-2023\", \"2021/03/10\", \"20th April 2021\"],\n",
    "    \"country\": [\"USA\", \"U.S.A\", \"United States of America\", \"United States\", \"U-S-A\"],\n",
    "    \"name\": [\"Abdus\", \"Hasn\", \"Hasn\", \"Udmaan\", \"Aiehsya\"],\n",
    "    \"sales_2020\": [250, 300, None, 400, 150],\n",
    "    \"sales_2021\": [None, 310, 260, None, 900]\n",
    "}\n",
    "\n",
    "df = pd.DataFrame(data)\n",
    "df.head()"
   ]
  },
  {
   "cell_type": "markdown",
   "metadata": {},
   "source": [
    "# MAKE DATE IN SINGLE FORMAT"
   ]
  },
  {
   "cell_type": "code",
   "execution_count": 26,
   "metadata": {},
   "outputs": [
    {
     "name": "stdout",
     "output_type": "stream",
     "text": [
      "       date                   country     name  sales_2020  sales_2021\n",
      "0  20-01-01                       USA    Abdus       250.0         NaN\n",
      "1  21-02-15                     U.S.A     Hasn       300.0       310.0\n",
      "2  23-01-22  United States of America     Hasn         NaN       260.0\n",
      "3  21-03-10             United States   Udmaan       400.0         NaN\n",
      "4  21-04-20                     U-S-A  Aiehsya       150.0       900.0\n"
     ]
    }
   ],
   "source": [
    "# Store original 'date' column for reference\n",
    "original_dates = df['date'].copy()\n",
    "\n",
    "# Attempt to parse dates, setting unparseable entries to NaT\n",
    "df['date'] = pd.to_datetime(df['date'], errors='coerce')\n",
    "\n",
    "# Replace NaT values with the original strings\n",
    "df['date'] = df['date'].where(df['date'].notna(), original_dates)\n",
    "\n",
    "#Format dates that were successfully parsed\n",
    "\n",
    "df['date'] = df['date'].apply(\n",
    "    lambda x: x.strftime('%y-%m-%d') if pd.notnull(x) and isinstance(x, pd.Timestamp) else x\n",
    ")\n",
    "\n",
    "print(df)"
   ]
  },
  {
   "cell_type": "markdown",
   "metadata": {},
   "source": [
    "# MAKE COUNTRY IN A ONE SAME FORMAT/SEQUENCE."
   ]
  },
  {
   "cell_type": "code",
   "execution_count": 27,
   "metadata": {},
   "outputs": [
    {
     "data": {
      "text/html": [
       "<div>\n",
       "<style scoped>\n",
       "    .dataframe tbody tr th:only-of-type {\n",
       "        vertical-align: middle;\n",
       "    }\n",
       "\n",
       "    .dataframe tbody tr th {\n",
       "        vertical-align: top;\n",
       "    }\n",
       "\n",
       "    .dataframe thead th {\n",
       "        text-align: right;\n",
       "    }\n",
       "</style>\n",
       "<table border=\"1\" class=\"dataframe\">\n",
       "  <thead>\n",
       "    <tr style=\"text-align: right;\">\n",
       "      <th></th>\n",
       "      <th>date</th>\n",
       "      <th>country</th>\n",
       "      <th>name</th>\n",
       "      <th>sales_2020</th>\n",
       "      <th>sales_2021</th>\n",
       "    </tr>\n",
       "  </thead>\n",
       "  <tbody>\n",
       "    <tr>\n",
       "      <th>0</th>\n",
       "      <td>20-01-01</td>\n",
       "      <td>America</td>\n",
       "      <td>Abdus</td>\n",
       "      <td>250.0</td>\n",
       "      <td>NaN</td>\n",
       "    </tr>\n",
       "    <tr>\n",
       "      <th>1</th>\n",
       "      <td>21-02-15</td>\n",
       "      <td>America</td>\n",
       "      <td>Hasn</td>\n",
       "      <td>300.0</td>\n",
       "      <td>310.0</td>\n",
       "    </tr>\n",
       "    <tr>\n",
       "      <th>2</th>\n",
       "      <td>23-01-22</td>\n",
       "      <td>America</td>\n",
       "      <td>Hasn</td>\n",
       "      <td>NaN</td>\n",
       "      <td>260.0</td>\n",
       "    </tr>\n",
       "    <tr>\n",
       "      <th>3</th>\n",
       "      <td>21-03-10</td>\n",
       "      <td>America</td>\n",
       "      <td>Udmaan</td>\n",
       "      <td>400.0</td>\n",
       "      <td>NaN</td>\n",
       "    </tr>\n",
       "    <tr>\n",
       "      <th>4</th>\n",
       "      <td>21-04-20</td>\n",
       "      <td>America</td>\n",
       "      <td>Aiehsya</td>\n",
       "      <td>150.0</td>\n",
       "      <td>900.0</td>\n",
       "    </tr>\n",
       "  </tbody>\n",
       "</table>\n",
       "</div>"
      ],
      "text/plain": [
       "       date  country     name  sales_2020  sales_2021\n",
       "0  20-01-01  America    Abdus       250.0         NaN\n",
       "1  21-02-15  America     Hasn       300.0       310.0\n",
       "2  23-01-22  America     Hasn         NaN       260.0\n",
       "3  21-03-10  America   Udmaan       400.0         NaN\n",
       "4  21-04-20  America  Aiehsya       150.0       900.0"
      ]
     },
     "execution_count": 27,
     "metadata": {},
     "output_type": "execute_result"
    }
   ],
   "source": [
    "# Make Country name on a Single Page\n",
    "\n",
    "country_mapping = {'USA':'America','United States of America':'America',\n",
    "                   'U.S.A':'America','United States':'America','U-S-A':'America'}\n",
    "\n",
    "df['country'] = df['country'].replace(country_mapping)\n",
    "df"
   ]
  },
  {
   "cell_type": "markdown",
   "metadata": {},
   "source": [
    "# CHECK & DROP DUPLICATES IN DATASET"
   ]
  },
  {
   "cell_type": "code",
   "execution_count": 28,
   "metadata": {},
   "outputs": [
    {
     "data": {
      "text/plain": [
       "0    False\n",
       "1    False\n",
       "2     True\n",
       "3    False\n",
       "4    False\n",
       "dtype: bool"
      ]
     },
     "execution_count": 28,
     "metadata": {},
     "output_type": "execute_result"
    }
   ],
   "source": [
    "# To check the presence of Duplication in T/F:\n",
    "df.duplicated(subset=\"name\")"
   ]
  },
  {
   "cell_type": "code",
   "execution_count": 29,
   "metadata": {},
   "outputs": [
    {
     "data": {
      "text/html": [
       "<div>\n",
       "<style scoped>\n",
       "    .dataframe tbody tr th:only-of-type {\n",
       "        vertical-align: middle;\n",
       "    }\n",
       "\n",
       "    .dataframe tbody tr th {\n",
       "        vertical-align: top;\n",
       "    }\n",
       "\n",
       "    .dataframe thead th {\n",
       "        text-align: right;\n",
       "    }\n",
       "</style>\n",
       "<table border=\"1\" class=\"dataframe\">\n",
       "  <thead>\n",
       "    <tr style=\"text-align: right;\">\n",
       "      <th></th>\n",
       "      <th>date</th>\n",
       "      <th>country</th>\n",
       "      <th>name</th>\n",
       "      <th>sales_2020</th>\n",
       "      <th>sales_2021</th>\n",
       "    </tr>\n",
       "  </thead>\n",
       "  <tbody>\n",
       "    <tr>\n",
       "      <th>0</th>\n",
       "      <td>20-01-01</td>\n",
       "      <td>America</td>\n",
       "      <td>Abdus</td>\n",
       "      <td>250.0</td>\n",
       "      <td>NaN</td>\n",
       "    </tr>\n",
       "    <tr>\n",
       "      <th>1</th>\n",
       "      <td>21-02-15</td>\n",
       "      <td>America</td>\n",
       "      <td>Hasn</td>\n",
       "      <td>300.0</td>\n",
       "      <td>310.0</td>\n",
       "    </tr>\n",
       "    <tr>\n",
       "      <th>3</th>\n",
       "      <td>21-03-10</td>\n",
       "      <td>America</td>\n",
       "      <td>Udmaan</td>\n",
       "      <td>400.0</td>\n",
       "      <td>NaN</td>\n",
       "    </tr>\n",
       "    <tr>\n",
       "      <th>4</th>\n",
       "      <td>21-04-20</td>\n",
       "      <td>America</td>\n",
       "      <td>Aiehsya</td>\n",
       "      <td>150.0</td>\n",
       "      <td>900.0</td>\n",
       "    </tr>\n",
       "  </tbody>\n",
       "</table>\n",
       "</div>"
      ],
      "text/plain": [
       "       date  country     name  sales_2020  sales_2021\n",
       "0  20-01-01  America    Abdus       250.0         NaN\n",
       "1  21-02-15  America     Hasn       300.0       310.0\n",
       "3  21-03-10  America   Udmaan       400.0         NaN\n",
       "4  21-04-20  America  Aiehsya       150.0       900.0"
      ]
     },
     "execution_count": 29,
     "metadata": {},
     "output_type": "execute_result"
    }
   ],
   "source": [
    "# Drop the Duplicates in the dataset:\n",
    "df = df.drop_duplicates(subset = \"name\")\n",
    "df"
   ]
  },
  {
   "cell_type": "markdown",
   "metadata": {},
   "source": [
    "# CORRECT THE SPELLING MISTAKES"
   ]
  },
  {
   "cell_type": "code",
   "execution_count": 31,
   "metadata": {},
   "outputs": [
    {
     "name": "stderr",
     "output_type": "stream",
     "text": [
      "C:\\Users\\Abdur Raffay Khan\\AppData\\Local\\Temp\\ipykernel_10952\\1733478383.py:3: SettingWithCopyWarning: \n",
      "A value is trying to be set on a copy of a slice from a DataFrame.\n",
      "Try using .loc[row_indexer,col_indexer] = value instead\n",
      "\n",
      "See the caveats in the documentation: https://pandas.pydata.org/pandas-docs/stable/user_guide/indexing.html#returning-a-view-versus-a-copy\n",
      "  df['name'] = df['name'].replace({'Abdus':'Abdur','Hasn':'Hassan',\n"
     ]
    },
    {
     "data": {
      "text/html": [
       "<div>\n",
       "<style scoped>\n",
       "    .dataframe tbody tr th:only-of-type {\n",
       "        vertical-align: middle;\n",
       "    }\n",
       "\n",
       "    .dataframe tbody tr th {\n",
       "        vertical-align: top;\n",
       "    }\n",
       "\n",
       "    .dataframe thead th {\n",
       "        text-align: right;\n",
       "    }\n",
       "</style>\n",
       "<table border=\"1\" class=\"dataframe\">\n",
       "  <thead>\n",
       "    <tr style=\"text-align: right;\">\n",
       "      <th></th>\n",
       "      <th>date</th>\n",
       "      <th>country</th>\n",
       "      <th>name</th>\n",
       "      <th>sales_2020</th>\n",
       "      <th>sales_2021</th>\n",
       "    </tr>\n",
       "  </thead>\n",
       "  <tbody>\n",
       "    <tr>\n",
       "      <th>0</th>\n",
       "      <td>20-01-01</td>\n",
       "      <td>America</td>\n",
       "      <td>Abdur</td>\n",
       "      <td>250.0</td>\n",
       "      <td>NaN</td>\n",
       "    </tr>\n",
       "    <tr>\n",
       "      <th>1</th>\n",
       "      <td>21-02-15</td>\n",
       "      <td>America</td>\n",
       "      <td>Hassan</td>\n",
       "      <td>300.0</td>\n",
       "      <td>310.0</td>\n",
       "    </tr>\n",
       "    <tr>\n",
       "      <th>3</th>\n",
       "      <td>21-03-10</td>\n",
       "      <td>America</td>\n",
       "      <td>Usman</td>\n",
       "      <td>400.0</td>\n",
       "      <td>NaN</td>\n",
       "    </tr>\n",
       "    <tr>\n",
       "      <th>4</th>\n",
       "      <td>21-04-20</td>\n",
       "      <td>America</td>\n",
       "      <td>Ayesha</td>\n",
       "      <td>150.0</td>\n",
       "      <td>900.0</td>\n",
       "    </tr>\n",
       "  </tbody>\n",
       "</table>\n",
       "</div>"
      ],
      "text/plain": [
       "       date  country    name  sales_2020  sales_2021\n",
       "0  20-01-01  America   Abdur       250.0         NaN\n",
       "1  21-02-15  America  Hassan       300.0       310.0\n",
       "3  21-03-10  America   Usman       400.0         NaN\n",
       "4  21-04-20  America  Ayesha       150.0       900.0"
      ]
     },
     "execution_count": 31,
     "metadata": {},
     "output_type": "execute_result"
    }
   ],
   "source": [
    "# Correct the Typographical Mistakes in Name:\n",
    "\n",
    "df['name'] = df['name'].replace({'Abdus':'Abdur','Hasn':'Hassan',\n",
    "                                 'Chanlie':'Charlie','Udmaan':'Usman',\n",
    "                                 'Aiehsya':'Ayesha'})\n",
    "df"
   ]
  }
 ],
 "metadata": {
  "kernelspec": {
   "display_name": "Python 3",
   "language": "python",
   "name": "python3"
  },
  "language_info": {
   "codemirror_mode": {
    "name": "ipython",
    "version": 3
   },
   "file_extension": ".py",
   "mimetype": "text/x-python",
   "name": "python",
   "nbconvert_exporter": "python",
   "pygments_lexer": "ipython3",
   "version": "3.12.4"
  }
 },
 "nbformat": 4,
 "nbformat_minor": 2
}

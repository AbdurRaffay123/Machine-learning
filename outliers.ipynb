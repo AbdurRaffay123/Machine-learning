{
 "cells": [
  {
   "cell_type": "markdown",
   "metadata": {
    "slideshow": {
     "slide_type": "notes"
    },
    "tags": [
     "parameters"
    ]
   },
   "source": [
    "# Z-SCORE METHOD FOR DETECTING & REMOVING OUTLIERS"
   ]
  },
  {
   "cell_type": "code",
   "execution_count": 2,
   "metadata": {},
   "outputs": [
    {
     "name": "stdout",
     "output_type": "stream",
     "text": [
      "24.23076923076923 \n",
      " 16.05832564388975\n"
     ]
    }
   ],
   "source": [
    "# Step 1: Import the required libraries\n",
    "import pandas as pd\n",
    "import numpy as np\n",
    "\n",
    "# Step 2: Create the data\n",
    "data = pd.DataFrame({'Age': [-20,20, 21, 22, 23, 24, 25, 26, 27, 28, 29, 30, 60]})\n",
    "\n",
    "# Step 3: Calculate the mean and standard deviation (std)\n",
    "mean = np.mean(data['Age'])\n",
    "std = np.std(data['Age'])\n",
    "\n",
    "# Step 4: Calculate the Z-Score\n",
    "data['Z-Score'] = (data['Age'] - mean) / std\n",
    "\n",
    "print(mean,\"\\n\",std)"
   ]
  },
  {
   "cell_type": "code",
   "execution_count": 2,
   "metadata": {},
   "outputs": [
    {
     "name": "stdout",
     "output_type": "stream",
     "text": [
      "Here is the data with outliers:\n",
      "     Age   Z-Score\n",
      "0   -20 -2.754382\n",
      "1    20 -0.263463\n",
      "2    21 -0.201190\n",
      "3    22 -0.138917\n",
      "4    23 -0.076644\n",
      "5    24 -0.014371\n",
      "6    25  0.047902\n",
      "7    26  0.110175\n",
      "8    27  0.172448\n",
      "9    28  0.234721\n",
      "10   29  0.296994\n",
      "11   30  0.359267\n",
      "12   60  2.227457\n"
     ]
    }
   ],
   "source": [
    "# Step 5: Print the data\n",
    "print(f\"Here is the data with outliers:\\n {data}\")"
   ]
  },
  {
   "cell_type": "code",
   "execution_count": 3,
   "metadata": {},
   "outputs": [
    {
     "name": "stdout",
     "output_type": "stream",
     "text": [
      "Here are the outliers based on the z-score threshold, 2:\n",
      "     Age   Z-Score\n",
      "12   60  2.227457\n",
      "Here are the outliers based on the z-score threshold,-2:\n",
      "    Age   Z-Score\n",
      "0  -20 -2.754382\n"
     ]
    }
   ],
   "source": [
    "# Step 6: Print the outliers\n",
    "print(f\"Here are the outliers based on the z-score threshold, 2:\\n {data[data['Z-Score'] >= 2]}\")\n",
    "print(f\"Here are the outliers based on the z-score threshold,-2:\\n {data[data['Z-Score'] <= -2]}\")"
   ]
  },
  {
   "cell_type": "code",
   "execution_count": 4,
   "metadata": {},
   "outputs": [],
   "source": [
    "# Step 7: Remove the outliers\n",
    "data = data[data['Z-Score'] <= 2]\n",
    "data = data[data['Z-Score'] >= -2.5]"
   ]
  },
  {
   "cell_type": "code",
   "execution_count": 5,
   "metadata": {},
   "outputs": [
    {
     "name": "stdout",
     "output_type": "stream",
     "text": [
      "Here is the data without outliers:\n",
      "     Age   Z-Score\n",
      "1    20 -0.263463\n",
      "2    21 -0.201190\n",
      "3    22 -0.138917\n",
      "4    23 -0.076644\n",
      "5    24 -0.014371\n",
      "6    25  0.047902\n",
      "7    26  0.110175\n",
      "8    27  0.172448\n",
      "9    28  0.234721\n",
      "10   29  0.296994\n",
      "11   30  0.359267\n"
     ]
    }
   ],
   "source": [
    "# Step 8: Print the data without outliers\n",
    "print(f\"Here is the data without outliers:\\n {data}\")"
   ]
  },
  {
   "cell_type": "markdown",
   "metadata": {},
   "source": [
    "# IQR"
   ]
  },
  {
   "cell_type": "code",
   "execution_count": 19,
   "metadata": {},
   "outputs": [
    {
     "name": "stdout",
     "output_type": "stream",
     "text": [
      "[0.35584227 0.34959942 0.346478   0.34023515 0.3339923  0.32774946\n",
      " 0.32150661 0.31526376 0.30902092 2.99968787]\n"
     ]
    }
   ],
   "source": [
    "# Import libraries\n",
    "import numpy as np\n",
    "from scipy import stats\n",
    "\n",
    "# Sample data\n",
    "data = [2.5, 2.7, 2.8, 3.0, 3.2, 3.4, 3.6, 3.8, 4.0, 110.0]\n",
    "\n",
    "# Calculate the Z-score for each data point\n",
    "z_scores = np.abs(stats.zscore(data))\n",
    "\n",
    "# Set a threshold for identifying outliers\n",
    "threshold = 2.5 \n",
    "outliers = np.where(z_scores > threshold)[0]\n",
    "\n",
    "print(z_scores)"
   ]
  },
  {
   "cell_type": "code",
   "execution_count": 20,
   "metadata": {},
   "outputs": [
    {
     "name": "stdout",
     "output_type": "stream",
     "text": [
      "----------------------------------------\n",
      "Data: [2.5, 2.7, 2.8, 3.0, 3.2, 3.4, 3.6, 3.8, 4.0, 110.0]\n",
      "----------------------------------------\n",
      "Indices of Outliers: [9]\n",
      "Outliers: [110.0]\n"
     ]
    }
   ],
   "source": [
    "\n",
    "# print the data\n",
    "print(\"----------------------------------------\")\n",
    "print(\"Data:\", data)\n",
    "print(\"----------------------------------------\")\n",
    "\n",
    "print(\"Indices of Outliers:\", outliers)\n",
    "print(\"Outliers:\", [data[i] for i in outliers])"
   ]
  },
  {
   "cell_type": "code",
   "execution_count": 32,
   "metadata": {},
   "outputs": [
    {
     "name": "stdout",
     "output_type": "stream",
     "text": [
      "Data without outliers:\n",
      "2.5\n",
      "2.7\n",
      "2.8\n",
      "3.0\n",
      "3.2\n",
      "3.4\n",
      "3.6\n",
      "3.8\n",
      "4.0\n"
     ]
    }
   ],
   "source": [
    "# Remove outliers\n",
    "# data = [data[i] for i in range(len(data)) if i not in outliers]\n",
    "print(\"Data without outliers:\")\n",
    "for i in range(len(data)):\n",
    "    if i not in outliers:\n",
    "        print(data[i])\n",
    "# print(\"----------------------------------------\")\n",
    "# print(\"Data without outliers:\", data)"
   ]
  }
 ],
 "metadata": {
  "kernelspec": {
   "display_name": "Python 3",
   "language": "python",
   "name": "python3"
  },
  "language_info": {
   "codemirror_mode": {
    "name": "ipython",
    "version": 3
   },
   "file_extension": ".py",
   "mimetype": "text/x-python",
   "name": "python",
   "nbconvert_exporter": "python",
   "pygments_lexer": "ipython3",
   "version": "3.12.4"
  }
 },
 "nbformat": 4,
 "nbformat_minor": 2
}

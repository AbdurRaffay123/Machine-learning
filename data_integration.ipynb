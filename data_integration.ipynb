{
 "cells": [
  {
   "cell_type": "markdown",
   "metadata": {},
   "source": [
    "DATA MERGE"
   ]
  },
  {
   "cell_type": "code",
   "execution_count": 14,
   "metadata": {},
   "outputs": [
    {
     "data": {
      "text/html": [
       "<div>\n",
       "<style scoped>\n",
       "    .dataframe tbody tr th:only-of-type {\n",
       "        vertical-align: middle;\n",
       "    }\n",
       "\n",
       "    .dataframe tbody tr th {\n",
       "        vertical-align: top;\n",
       "    }\n",
       "\n",
       "    .dataframe thead th {\n",
       "        text-align: right;\n",
       "    }\n",
       "</style>\n",
       "<table border=\"1\" class=\"dataframe\">\n",
       "  <thead>\n",
       "    <tr style=\"text-align: right;\">\n",
       "      <th></th>\n",
       "      <th>id</th>\n",
       "      <th>name</th>\n",
       "      <th>age</th>\n",
       "      <th>occupation</th>\n",
       "      <th>city</th>\n",
       "    </tr>\n",
       "  </thead>\n",
       "  <tbody>\n",
       "    <tr>\n",
       "      <th>0</th>\n",
       "      <td>1</td>\n",
       "      <td>Ali</td>\n",
       "      <td>23</td>\n",
       "      <td>Scholor</td>\n",
       "      <td>Makkah</td>\n",
       "    </tr>\n",
       "    <tr>\n",
       "      <th>1</th>\n",
       "      <td>2</td>\n",
       "      <td>Usman</td>\n",
       "      <td>25</td>\n",
       "      <td>Ghani</td>\n",
       "      <td>Madina</td>\n",
       "    </tr>\n",
       "    <tr>\n",
       "      <th>2</th>\n",
       "      <td>3</td>\n",
       "      <td>Umar</td>\n",
       "      <td>27</td>\n",
       "      <td>Ameer</td>\n",
       "      <td>Koofa</td>\n",
       "    </tr>\n",
       "  </tbody>\n",
       "</table>\n",
       "</div>"
      ],
      "text/plain": [
       "   id   name  age occupation    city\n",
       "0   1    Ali   23    Scholor  Makkah\n",
       "1   2  Usman   25      Ghani  Madina\n",
       "2   3   Umar   27      Ameer   Koofa"
      ]
     },
     "execution_count": 14,
     "metadata": {},
     "output_type": "execute_result"
    }
   ],
   "source": [
    "import pandas as pd\n",
    "\n",
    "data1 = {\n",
    "    \"id\":[1,2,3],\n",
    "    \"name\": [\"Ali\",\"Usman\",\"Umar\"],\n",
    "    \"age\":[23,25,27], \n",
    "}\n",
    "\n",
    "data2 = {\n",
    "    'id':[1,2,3],\n",
    "    'occupation':[\"Scholor\",\"Ghani\",\"Ameer\"],\n",
    "    'city': [\"Makkah\",\"Madina\",\"Koofa\"]\n",
    "    }\n",
    "\n",
    "df1 = pd.DataFrame(data1)\n",
    "df2 = pd.DataFrame(data2)\n",
    "\n",
    "merged_data = pd.merge(df1, df2, on=\"id\", how=\"inner\")\n",
    "merged_data\n"
   ]
  },
  {
   "cell_type": "markdown",
   "metadata": {},
   "source": [
    "DATA CONCATENATION"
   ]
  },
  {
   "cell_type": "code",
   "execution_count": 32,
   "metadata": {},
   "outputs": [
    {
     "name": "stdout",
     "output_type": "stream",
     "text": [
      "    Name  Age  Gender\n",
      "0  Alice   25  Female\n",
      "1    Bob   30    Male\n",
      "2  Carol   22  Female\n",
      "3   Dave   35    Male\n",
      "0    Eve   28  Female\n",
      "1  Frank   32    Male\n",
      "2  Grace   26  Female\n",
      "3  Henry   40    Male\n",
      "---------------------------------\n",
      "\n",
      "\n",
      "    Name  Age  Gender    Province    Country         City\n",
      "0    Eve   28  Female     Ontario     Canada      Toronto\n",
      "1  Frank   32    Male  California        USA  Los Angeles\n",
      "2  Grace   26  Female     Bavaria    Germany       Munich\n",
      "3  Henry   40    Male  Queensland  Australia     Brisbane\n",
      "\n",
      "\n",
      "---------------------------------\n",
      "\n",
      "\n"
     ]
    }
   ],
   "source": [
    "import pandas as pd\n",
    "\n",
    "dataset1 = {\n",
    "    \"Name\": [\"Alice\", \"Bob\", \"Carol\", \"Dave\"],\n",
    "    \"Age\": [25, 30, 22, 35],\n",
    "    \"Gender\": [\"Female\", \"Male\", \"Female\", \"Male\"]\n",
    "}\n",
    "\n",
    "dataset2 = {\n",
    "    \"Name\": [\"Eve\", \"Frank\", \"Grace\", \"Henry\"],\n",
    "    \"Age\": [28, 32, 26, 40],\n",
    "    \"Gender\": [\"Female\", \"Male\", \"Female\", \"Male\"]\n",
    "}\n",
    "\n",
    "dataset3 = {\n",
    "    \"Province\": [\"Ontario\", \"California\", \"Bavaria\", \"Queensland\"],\n",
    "    \"Country\": [\"Canada\", \"USA\", \"Germany\", \"Australia\"],\n",
    "    \"City\": [\"Toronto\", \"Los Angeles\", \"Munich\", \"Brisbane\"]\n",
    "}\n",
    "\n",
    "df1 = pd.DataFrame(dataset1)\n",
    "df2 = pd.DataFrame(dataset2)\n",
    "df3 = pd.DataFrame(dataset3)\n",
    "\n",
    "\n",
    "concat_vertically = pd.concat([df1,df2], axis=0) # axis = 0 is vertically! \n",
    "print(concat_vertically)\n",
    "print(\"---------------------------------\\n\\n\")\n",
    "\n",
    "contact_Horizontally = pd.concat([df2,df3],axis=1) # axis = 1 is Horizontally! \n",
    "print(contact_Horizontally)\n",
    "print(\"\\n\\n---------------------------------\\n\\n\")"
   ]
  }
 ],
 "metadata": {
  "kernelspec": {
   "display_name": "Python 3",
   "language": "python",
   "name": "python3"
  },
  "language_info": {
   "codemirror_mode": {
    "name": "ipython",
    "version": 3
   },
   "file_extension": ".py",
   "mimetype": "text/x-python",
   "name": "python",
   "nbconvert_exporter": "python",
   "pygments_lexer": "ipython3",
   "version": "3.12.4"
  }
 },
 "nbformat": 4,
 "nbformat_minor": 2
}
